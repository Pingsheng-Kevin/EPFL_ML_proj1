{
 "cells": [
  {
   "cell_type": "code",
   "execution_count": 4,
   "metadata": {},
   "outputs": [],
   "source": [
    "import csv\n",
    "import numpy as np\n",
    "\n",
    "def csv_to_numpy(filepath, delimiter=',', skip_header=1):\n",
    "    \"\"\"\n",
    "    Reads a CSV file and returns it as a numpy array.\n",
    "    Assumes the first row is a header by default.\n",
    "    \"\"\"\n",
    "    data = np.genfromtxt(filepath, delimiter=delimiter, skip_header=skip_header, dtype=float, encoding='utf-8')\n",
    "    headers = data.dtype.names\n",
    "    return headers, data\n",
    "\n",
    "_, X_train = csv_to_numpy('data/dataset/x_train.csv')\n"
   ]
  },
  {
   "cell_type": "code",
   "execution_count": 5,
   "metadata": {},
   "outputs": [
    {
     "name": "stdout",
     "output_type": "stream",
     "text": [
      "[[5.3000000e+01 1.1000000e+01 1.1162015e+07 ...           nan\n",
      "            nan 2.0000000e+00]\n",
      " [3.3000000e+01 1.2000000e+01 1.2152015e+07 ...           nan\n",
      "            nan           nan]\n",
      " [2.0000000e+01 1.0000000e+01 1.0202015e+07 ... 1.0000000e+00\n",
      "  2.0000000e+00 2.0000000e+00]\n",
      " ...\n",
      " [3.9000000e+01 1.0000000e+01 1.0202015e+07 ... 2.0000000e+00\n",
      "  2.0000000e+00 2.0000000e+00]\n",
      " [3.3000000e+01 1.2000000e+01 1.2302015e+07 ...           nan\n",
      "            nan 2.0000000e+00]\n",
      " [3.2000000e+01 9.0000000e+00 9.1220150e+06 ...           nan\n",
      "            nan 2.0000000e+00]] (328135, 321)\n"
     ]
    }
   ],
   "source": [
    "print(X_train,X_train.shape)"
   ]
  },
  {
   "cell_type": "code",
   "execution_count": 6,
   "metadata": {},
   "outputs": [],
   "source": [
    "np.save('X_train.npy', X_train)"
   ]
  },
  {
   "cell_type": "code",
   "execution_count": 9,
   "metadata": {},
   "outputs": [],
   "source": [
    "_, X_test = csv_to_numpy('data/dataset/x_test.csv')\n",
    "np.save('X_test.npy', X_test)"
   ]
  },
  {
   "cell_type": "code",
   "execution_count": 10,
   "metadata": {},
   "outputs": [],
   "source": [
    "y = np.genfromtxt('data/dataset/y_train.csv', delimiter='\\n', skip_header=1, dtype=float, encoding='utf-8')"
   ]
  },
  {
   "cell_type": "code",
   "execution_count": 12,
   "metadata": {},
   "outputs": [
    {
     "name": "stdout",
     "output_type": "stream",
     "text": [
      "[0. 0. 0. ... 0. 0. 0.] (328135,)\n"
     ]
    }
   ],
   "source": [
    "print(y,y.shape)"
   ]
  },
  {
   "cell_type": "code",
   "execution_count": 13,
   "metadata": {},
   "outputs": [],
   "source": [
    "np.save('y_train.npy', y)"
   ]
  }
 ],
 "metadata": {
  "kernelspec": {
   "display_name": "ML_EPFL",
   "language": "python",
   "name": "ml_epfl"
  },
  "language_info": {
   "codemirror_mode": {
    "name": "ipython",
    "version": 3
   },
   "file_extension": ".py",
   "mimetype": "text/x-python",
   "name": "python",
   "nbconvert_exporter": "python",
   "pygments_lexer": "ipython3",
   "version": "3.8.18"
  }
 },
 "nbformat": 4,
 "nbformat_minor": 2
}
